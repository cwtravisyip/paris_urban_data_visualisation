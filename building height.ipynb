{
 "cells": [
  {
   "cell_type": "code",
   "execution_count": 5,
   "metadata": {},
   "outputs": [],
   "source": [
    "import pandas as pd\n",
    "import matplotlib.pyplot as plt\n",
    "import seaborn as sns\n",
    "import numpy as np"
   ]
  },
  {
   "cell_type": "code",
   "execution_count": 6,
   "metadata": {},
   "outputs": [],
   "source": [
    "value_ny = [297,90,15]\n",
    "value_pr = [19,2,1]\n",
    "key = [\"150+\",'200+',\"300+\"]\n"
   ]
  },
  {
   "cell_type": "code",
   "execution_count": 20,
   "metadata": {},
   "outputs": [
    {
     "data": {
      "image/png": "[encoded data removed]",
      "text/plain": [
       "<Figure size 432x288 with 1 Axes>"
      ]
     },
     "metadata": {},
     "output_type": "display_data"
    }
   ],
   "source": [
    "plt.style.use('seaborn-whitegrid')\n",
    "plt.rcParams[\"font.family\"] = \"sans serif\"\n",
    "plt.rcParams[\"figure.autolayout\"] = False\n",
    "plt.rcParams['axes.spines.right'] = False\n",
    "plt.rcParams['axes.spines.top'] = False\n",
    "plt.rcParams['axes.spines.left'] = False\n",
    "plt.rcParams['axes.spines.bottom'] = False\n",
    "\n",
    "\n",
    "#data\n",
    "\n",
    "colors = ['#F05682']\n",
    "colors = ['#E89A24AA']\n",
    "\n",
    "#plot the data\n",
    "\n",
    "\n",
    "x = np.arange(len(key))\n",
    "width = 0.2\n",
    "\n",
    "plt.bar(x-width/2-0.05,value_pr,width, align ='center',color = '#F05682',label = \"Paris\")\n",
    "plt.bar(x+width/2+0.05,value_ny,width,align ='center',color = '#B8CA7D', label ='New York')\n",
    "plt.xticks(x,key)\n",
    "plt.ylabel(\"Number of Buildings\")\n",
    "plt.xlabel(\"Building Heights (m)\")\n",
    "plt.grid(b=None)\n",
    "plt.legend()\n",
    "\n",
    "\n",
    "\n",
    "\n",
    "#export\n",
    "plt.savefig('/Users/Tra_FIT/Desktop/python/URBS1003/building_height.png',dpi = 300,transparent = True)\n",
    "\n"
   ]
  },
  {
   "cell_type": "code",
   "execution_count": null,
   "metadata": {},
   "outputs": [],
   "source": []
  }
 ],
 "metadata": {
  "kernelspec": {
   "display_name": "Python 3",
   "language": "python",
   "name": "python3"
  },
  "language_info": {
   "codemirror_mode": {
    "name": "ipython",
    "version": 3
   },
   "file_extension": ".py",
   "mimetype": "text/x-python",
   "name": "python",
   "nbconvert_exporter": "python",
   "pygments_lexer": "ipython3",
   "version": "3.8.3"
  }
 },
 "nbformat": 4,
 "nbformat_minor": 4
}
