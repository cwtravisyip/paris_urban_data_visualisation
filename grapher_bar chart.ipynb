{
 "cells": [
  {
   "cell_type": "markdown",
   "metadata": {},
   "source": [
    "# Bar Charts"
   ]
  },
  {
   "cell_type": "code",
   "execution_count": 1,
   "metadata": {},
   "outputs": [],
   "source": [
    "import pandas as pd\n",
    "import matplotlib.pyplot as plt\n",
    "import seaborn as sns\n",
    "import numpy as np\n",
    "\n",
    "plt.style.use('seaborn-whitegrid')\n",
    "plt.rcParams[\"font.family\"] = \"sans serif\"\n",
    "plt.rcParams[\"figure.autolayout\"] = False\n",
    "plt.rcParams['axes.spines.right'] = False\n",
    "plt.rcParams['axes.spines.top'] = False\n",
    "plt.rcParams['axes.spines.left'] = False\n",
    "plt.rcParams['axes.spines.bottom'] = False"
   ]
  },
  {
   "cell_type": "markdown",
   "metadata": {},
   "source": [
    "### Number of Building by Height in New York and Paris\n"
   ]
  },
  {
   "cell_type": "markdown",
   "metadata": {},
   "source": [
    "The data is sourced from [Council on Tall Building and Urban Habitat](https://www.skyscrapercenter.com/cities) in November 2022."
   ]
  },
  {
   "cell_type": "code",
   "execution_count": 2,
   "metadata": {},
   "outputs": [],
   "source": [
    "# define the building height data\n",
    "value_ny = [297,90,15]\n",
    "value_pr = [19,2,1]\n",
    "key = [\"150+\",'200+',\"300+\"]\n"
   ]
  },
  {
   "cell_type": "code",
   "execution_count": 3,
   "metadata": {},
   "outputs": [
    {
     "name": "stderr",
     "output_type": "stream",
     "text": [
      "<ipython-input-3-fc8c0024ff2b>:14: MatplotlibDeprecationWarning: The 'b' parameter of grid() has been renamed 'visible' since Matplotlib 3.5; support for the old name will be dropped two minor releases later.\n",
      "  plt.grid(b=None)\n"
     ]
    },
    {
     "data": {
      "image/png": "[encoded data removed]",
      "text/plain": [
       "<Figure size 432x288 with 1 Axes>"
      ]
     },
     "metadata": {
      "needs_background": "light"
     },
     "output_type": "display_data"
    }
   ],
   "source": [
    "# define the theme color \n",
    "colors = ['#F05682']\n",
    "colors = ['#E89A24AA']\n",
    "\n",
    "#plot the data\n",
    "x = np.arange(len(key))\n",
    "width = 0.2\n",
    "\n",
    "plt.bar(x-width/2-0.05,value_pr,width, align ='center',color = '#F05682',label = \"Paris\")\n",
    "plt.bar(x+width/2+0.05,value_ny,width,align ='center',color = '#B8CA7D', label ='New York')\n",
    "plt.xticks(x,key)\n",
    "plt.ylabel(\"Number of Buildings\")\n",
    "plt.xlabel(\"Building Heights (m)\")\n",
    "plt.grid(b=None)\n",
    "plt.legend()\n",
    "\n",
    "#export\n",
    "plt.savefig('./building_height.png',dpi = 300,transparent = True)\n",
    "\n"
   ]
  },
  {
   "cell_type": "markdown",
   "metadata": {},
   "source": [
    "### Regional GDP\n",
    "Documentation did not provide the data source. It is assumed that the data is collected from wikipedia, accessed in November 2022."
   ]
  },
  {
   "cell_type": "code",
   "execution_count": 4,
   "metadata": {},
   "outputs": [
    {
     "name": "stderr",
     "output_type": "stream",
     "text": [
      "<ipython-input-4-bc1b582f8002>:12: MatplotlibDeprecationWarning: The 'b' parameter of grid() has been renamed 'visible' since Matplotlib 3.5; support for the old name will be dropped two minor releases later.\n",
      "  plt.grid(b=None)\n"
     ]
    },
    {
     "data": {
      "image/png": "[encoded data removed]",
      "text/plain": [
       "<Figure size 432x288 with 1 Axes>"
      ]
     },
     "metadata": {
      "needs_background": "light"
     },
     "output_type": "display_data"
    }
   ],
   "source": [
    "# data values\n",
    "value = [1861,1790,1088,915,849,781,709]\n",
    "key = ['New York','Tokyo','Los Angeles','Seoul','Paris','Osaka','Chicago']\n",
    "# define theme colour\n",
    "colors = ['#a6a6a6','#a6a6a6','#a6a6a6','#a6a6a6','#cf1248','#a6a6a6','#a6a6a6']\n",
    "\n",
    "#plot the data\n",
    "x = np.arange(len(key))\n",
    "plt.bar(x,value,align ='center',color = colors)\n",
    "plt.xticks(x,key)\n",
    "plt.ylabel(\"Regional GDP (in billion USD)\")\n",
    "plt.grid(b=None)\n",
    "\n",
    "#export\n",
    "plt.savefig('./gdp.png',dpi = 300,transparent = True)\n"
   ]
  },
  {
   "cell_type": "markdown",
   "metadata": {},
   "source": [
    "### Demographics\n",
    "Data is sourced from INSEE (2022), assessed in November 2022."
   ]
  },
  {
   "cell_type": "code",
   "execution_count": 5,
   "metadata": {},
   "outputs": [
    {
     "name": "stdout",
     "output_type": "stream",
     "text": [
      "         Region  Population\n",
      "0        Africa     746.098\n",
      "1        Europe     512.561\n",
      "2          Asia     278.157\n",
      "3  The Americas      72.019\n"
     ]
    }
   ],
   "source": [
    "value = [746.098,512.561,278.157,72.019]\n",
    "key = ['Africa','Europe','Asia','The Americas']\n",
    "foreign = {'Region':key,'Population':value}\n",
    "df = pd.DataFrame(foreign)\n",
    "print(df)"
   ]
  },
  {
   "cell_type": "code",
   "execution_count": 6,
   "metadata": {},
   "outputs": [
    {
     "name": "stderr",
     "output_type": "stream",
     "text": [
      "<ipython-input-6-d4997055306b>:10: MatplotlibDeprecationWarning: The 'b' parameter of grid() has been renamed 'visible' since Matplotlib 3.5; support for the old name will be dropped two minor releases later.\n",
      "  plt.grid(b=None)\n"
     ]
    },
    {
     "data": {
      "image/png": "[encoded data removed]",
      "text/plain": [
       "<Figure size 432x288 with 1 Axes>"
      ]
     },
     "metadata": {
      "needs_background": "light"
     },
     "output_type": "display_data"
    }
   ],
   "source": [
    "# define theme colours\n",
    "colors = ['#F05682','#F7A1B9','#B8CA7D','#E89A24']\n",
    "\n",
    "#plot the data\n",
    "x = np.arange(len(key))\n",
    "\n",
    "plt.bar(x,value,align ='center',color = colors)\n",
    "plt.xticks(x,key)\n",
    "plt.ylabel(\"Population in thousands\")\n",
    "plt.grid(b=None)\n",
    "\n",
    "#export\n",
    "plt.savefig('./foreign.png',dpi = 300,transparent = True)\n"
   ]
  },
  {
   "cell_type": "code",
   "execution_count": null,
   "metadata": {},
   "outputs": [],
   "source": []
  },
  {
   "cell_type": "code",
   "execution_count": null,
   "metadata": {},
   "outputs": [],
   "source": []
  }
 ],
 "metadata": {
  "kernelspec": {
   "display_name": "Python 3.8.3 ('base': conda)",
   "language": "python",
   "name": "python3"
  },
  "language_info": {
   "codemirror_mode": {
    "name": "ipython",
    "version": 3
   },
   "file_extension": ".py",
   "mimetype": "text/x-python",
   "name": "python",
   "nbconvert_exporter": "python",
   "pygments_lexer": "ipython3",
   "version": "3.8.3"
  },
  "vscode": {
   "interpreter": {
    "hash": "0b1c91c530eda5f462e901147e46a9a324c9e2435eb658c155af04e07a2ce394"
   }
  }
 },
 "nbformat": 4,
 "nbformat_minor": 4
}
